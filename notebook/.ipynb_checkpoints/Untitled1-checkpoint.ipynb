{
 "cells": [
  {
   "cell_type": "code",
   "execution_count": 45,
   "id": "4d851213",
   "metadata": {},
   "outputs": [],
   "source": [
    "import pandas as pd\n",
    "from sklearn.model_selection import train_test_split\n",
    "from sklearn.linear_model import LinearRegression \n",
    "from sklearn import metrics\n",
    "import numpy as np\n",
    "from sklearn.ensemble import RandomForestRegressor\n",
    "from sklearn.tree import DecisionTreeRegressor"
   ]
  },
  {
   "cell_type": "code",
   "execution_count": 6,
   "id": "8e64fa67",
   "metadata": {},
   "outputs": [
    {
     "data": {
      "text/html": [
       "<div>\n",
       "<style scoped>\n",
       "    .dataframe tbody tr th:only-of-type {\n",
       "        vertical-align: middle;\n",
       "    }\n",
       "\n",
       "    .dataframe tbody tr th {\n",
       "        vertical-align: top;\n",
       "    }\n",
       "\n",
       "    .dataframe thead th {\n",
       "        text-align: right;\n",
       "    }\n",
       "</style>\n",
       "<table border=\"1\" class=\"dataframe\">\n",
       "  <thead>\n",
       "    <tr style=\"text-align: right;\">\n",
       "      <th></th>\n",
       "      <th>Unnamed: 0</th>\n",
       "      <th>id</th>\n",
       "      <th>carat</th>\n",
       "      <th>depth</th>\n",
       "      <th>table</th>\n",
       "      <th>price</th>\n",
       "      <th>cut_n</th>\n",
       "      <th>color_n</th>\n",
       "      <th>clarity_n</th>\n",
       "    </tr>\n",
       "  </thead>\n",
       "  <tbody>\n",
       "    <tr>\n",
       "      <th>0</th>\n",
       "      <td>0</td>\n",
       "      <td>0</td>\n",
       "      <td>1.14</td>\n",
       "      <td>61.0</td>\n",
       "      <td>56.0</td>\n",
       "      <td>9013</td>\n",
       "      <td>4</td>\n",
       "      <td>4</td>\n",
       "      <td>3</td>\n",
       "    </tr>\n",
       "    <tr>\n",
       "      <th>1</th>\n",
       "      <td>1</td>\n",
       "      <td>1</td>\n",
       "      <td>0.76</td>\n",
       "      <td>62.7</td>\n",
       "      <td>57.0</td>\n",
       "      <td>2692</td>\n",
       "      <td>4</td>\n",
       "      <td>3</td>\n",
       "      <td>5</td>\n",
       "    </tr>\n",
       "    <tr>\n",
       "      <th>2</th>\n",
       "      <td>2</td>\n",
       "      <td>2</td>\n",
       "      <td>0.84</td>\n",
       "      <td>61.4</td>\n",
       "      <td>56.0</td>\n",
       "      <td>4372</td>\n",
       "      <td>4</td>\n",
       "      <td>4</td>\n",
       "      <td>4</td>\n",
       "    </tr>\n",
       "    <tr>\n",
       "      <th>3</th>\n",
       "      <td>3</td>\n",
       "      <td>3</td>\n",
       "      <td>1.55</td>\n",
       "      <td>62.0</td>\n",
       "      <td>57.0</td>\n",
       "      <td>13665</td>\n",
       "      <td>4</td>\n",
       "      <td>3</td>\n",
       "      <td>4</td>\n",
       "    </tr>\n",
       "    <tr>\n",
       "      <th>4</th>\n",
       "      <td>4</td>\n",
       "      <td>4</td>\n",
       "      <td>0.30</td>\n",
       "      <td>61.9</td>\n",
       "      <td>57.0</td>\n",
       "      <td>422</td>\n",
       "      <td>4</td>\n",
       "      <td>4</td>\n",
       "      <td>7</td>\n",
       "    </tr>\n",
       "  </tbody>\n",
       "</table>\n",
       "</div>"
      ],
      "text/plain": [
       "   Unnamed: 0  id  carat  depth  table  price  cut_n  color_n  clarity_n\n",
       "0           0   0   1.14   61.0   56.0   9013      4        4          3\n",
       "1           1   1   0.76   62.7   57.0   2692      4        3          5\n",
       "2           2   2   0.84   61.4   56.0   4372      4        4          4\n",
       "3           3   3   1.55   62.0   57.0  13665      4        3          4\n",
       "4           4   4   0.30   61.9   57.0    422      4        4          7"
      ]
     },
     "execution_count": 6,
     "metadata": {},
     "output_type": "execute_result"
    }
   ],
   "source": [
    "df_diamond2.head()"
   ]
  },
  {
   "cell_type": "code",
   "execution_count": 7,
   "id": "ea46e45f",
   "metadata": {},
   "outputs": [],
   "source": [
    "X = df_diamond2.drop(columns =[\"id\",\"price\", \"Unnamed: 0\"]) #no implace = true"
   ]
  },
  {
   "cell_type": "code",
   "execution_count": 9,
   "id": "6acc1c35",
   "metadata": {},
   "outputs": [
    {
     "data": {
      "text/html": [
       "<div>\n",
       "<style scoped>\n",
       "    .dataframe tbody tr th:only-of-type {\n",
       "        vertical-align: middle;\n",
       "    }\n",
       "\n",
       "    .dataframe tbody tr th {\n",
       "        vertical-align: top;\n",
       "    }\n",
       "\n",
       "    .dataframe thead th {\n",
       "        text-align: right;\n",
       "    }\n",
       "</style>\n",
       "<table border=\"1\" class=\"dataframe\">\n",
       "  <thead>\n",
       "    <tr style=\"text-align: right;\">\n",
       "      <th></th>\n",
       "      <th>carat</th>\n",
       "      <th>depth</th>\n",
       "      <th>table</th>\n",
       "      <th>cut_n</th>\n",
       "      <th>color_n</th>\n",
       "      <th>clarity_n</th>\n",
       "    </tr>\n",
       "  </thead>\n",
       "  <tbody>\n",
       "    <tr>\n",
       "      <th>0</th>\n",
       "      <td>1.14</td>\n",
       "      <td>61.0</td>\n",
       "      <td>56.0</td>\n",
       "      <td>4</td>\n",
       "      <td>4</td>\n",
       "      <td>3</td>\n",
       "    </tr>\n",
       "    <tr>\n",
       "      <th>1</th>\n",
       "      <td>0.76</td>\n",
       "      <td>62.7</td>\n",
       "      <td>57.0</td>\n",
       "      <td>4</td>\n",
       "      <td>3</td>\n",
       "      <td>5</td>\n",
       "    </tr>\n",
       "    <tr>\n",
       "      <th>2</th>\n",
       "      <td>0.84</td>\n",
       "      <td>61.4</td>\n",
       "      <td>56.0</td>\n",
       "      <td>4</td>\n",
       "      <td>4</td>\n",
       "      <td>4</td>\n",
       "    </tr>\n",
       "    <tr>\n",
       "      <th>3</th>\n",
       "      <td>1.55</td>\n",
       "      <td>62.0</td>\n",
       "      <td>57.0</td>\n",
       "      <td>4</td>\n",
       "      <td>3</td>\n",
       "      <td>4</td>\n",
       "    </tr>\n",
       "    <tr>\n",
       "      <th>4</th>\n",
       "      <td>0.30</td>\n",
       "      <td>61.9</td>\n",
       "      <td>57.0</td>\n",
       "      <td>4</td>\n",
       "      <td>4</td>\n",
       "      <td>7</td>\n",
       "    </tr>\n",
       "  </tbody>\n",
       "</table>\n",
       "</div>"
      ],
      "text/plain": [
       "   carat  depth  table  cut_n  color_n  clarity_n\n",
       "0   1.14   61.0   56.0      4        4          3\n",
       "1   0.76   62.7   57.0      4        3          5\n",
       "2   0.84   61.4   56.0      4        4          4\n",
       "3   1.55   62.0   57.0      4        3          4\n",
       "4   0.30   61.9   57.0      4        4          7"
      ]
     },
     "execution_count": 9,
     "metadata": {},
     "output_type": "execute_result"
    }
   ],
   "source": [
    "X.head()"
   ]
  },
  {
   "cell_type": "code",
   "execution_count": 10,
   "id": "49e189d0",
   "metadata": {},
   "outputs": [],
   "source": [
    "y = df_diamond2.price"
   ]
  },
  {
   "cell_type": "code",
   "execution_count": 13,
   "id": "9e1d3727",
   "metadata": {},
   "outputs": [],
   "source": [
    "X_train, X_test, y_train, y_test = train_test_split(X,y, test_size=0.2)"
   ]
  },
  {
   "cell_type": "code",
   "execution_count": 14,
   "id": "b7842d8f",
   "metadata": {},
   "outputs": [
    {
     "data": {
      "text/plain": [
       "(32364, 6)"
      ]
     },
     "execution_count": 14,
     "metadata": {},
     "output_type": "execute_result"
    }
   ],
   "source": [
    "X_train.shape"
   ]
  },
  {
   "cell_type": "code",
   "execution_count": 15,
   "id": "9822115d",
   "metadata": {},
   "outputs": [
    {
     "data": {
      "text/plain": [
       "(32364,)"
      ]
     },
     "execution_count": 15,
     "metadata": {},
     "output_type": "execute_result"
    }
   ],
   "source": [
    "y_train.shape"
   ]
  },
  {
   "cell_type": "code",
   "execution_count": 16,
   "id": "1c0fe536",
   "metadata": {},
   "outputs": [
    {
     "data": {
      "text/plain": [
       "(8091, 6)"
      ]
     },
     "execution_count": 16,
     "metadata": {},
     "output_type": "execute_result"
    }
   ],
   "source": [
    "X_test.shape"
   ]
  },
  {
   "cell_type": "code",
   "execution_count": 17,
   "id": "0e37cd3c",
   "metadata": {},
   "outputs": [
    {
     "data": {
      "text/plain": [
       "(8091,)"
      ]
     },
     "execution_count": 17,
     "metadata": {},
     "output_type": "execute_result"
    }
   ],
   "source": [
    "y_test.shape"
   ]
  },
  {
   "cell_type": "code",
   "execution_count": 19,
   "id": "40598338",
   "metadata": {},
   "outputs": [],
   "source": [
    "linreg=LinReg()"
   ]
  },
  {
   "cell_type": "markdown",
   "id": "cb3c0ae7",
   "metadata": {},
   "source": [
    "### Entreno varios modelos de regresión para comparar y elegir el adecuado"
   ]
  },
  {
   "cell_type": "code",
   "execution_count": 39,
   "id": "8b35e30d",
   "metadata": {},
   "outputs": [],
   "source": [
    "from sklearn.linear_model import Ridge, Lasso\n",
    "\n",
    "from sklearn.linear_model import SGDRegressor\n",
    "\n",
    "from sklearn.neighbors import KNeighborsRegressor\n",
    "\n",
    "from sklearn.ensemble import GradientBoostingRegressor\n",
    "\n",
    "from sklearn.svm import SVR\n",
    "\n",
    "from sklearn.linear_model import ElasticNet\n",
    "\n",
    "from sklearn.svm import LinearSVR \n",
    "\n",
    "from sklearn.tree import DecisionTreeClassifier"
   ]
  },
  {
   "cell_type": "code",
   "execution_count": 40,
   "id": "2bb0dbb4",
   "metadata": {},
   "outputs": [],
   "source": [
    "models1= DecisionTreeClassifier(max_depth=1)"
   ]
  },
  {
   "cell_type": "code",
   "execution_count": 46,
   "id": "8547f30e",
   "metadata": {},
   "outputs": [],
   "source": [
    "models={\n",
    "    'ridge': Ridge(),\n",
    "    'lasso': Lasso(),\n",
    "    'sgd': SGDRegressor(),\n",
    "    'knn': KNeighborsRegressor(),\n",
    "    'grad': GradientBoostingRegressor(),\n",
    "    'lin': LinearRegression(),\n",
    "    'elast': ElasticNet(),\n",
    "    'svr': LinearSVR(),\n",
    "    'rand': RandomForestRegressor(),\n",
    "    'tree': DecisionTreeRegressor(),\n",
    "    \n",
    "}"
   ]
  },
  {
   "cell_type": "code",
   "execution_count": 49,
   "id": "6c0a94b2",
   "metadata": {},
   "outputs": [
    {
     "name": "stdout",
     "output_type": "stream",
     "text": [
      "{'alpha': 1.0, 'copy_X': True, 'fit_intercept': True, 'max_iter': None, 'normalize': 'deprecated', 'positive': False, 'random_state': None, 'solver': 'auto', 'tol': 0.001}\n",
      "{'alpha': 1.0, 'copy_X': True, 'fit_intercept': True, 'max_iter': 1000, 'normalize': 'deprecated', 'positive': False, 'precompute': False, 'random_state': None, 'selection': 'cyclic', 'tol': 0.0001, 'warm_start': False}\n",
      "{'alpha': 0.0001, 'average': False, 'early_stopping': False, 'epsilon': 0.1, 'eta0': 0.01, 'fit_intercept': True, 'l1_ratio': 0.15, 'learning_rate': 'invscaling', 'loss': 'squared_error', 'max_iter': 1000, 'n_iter_no_change': 5, 'penalty': 'l2', 'power_t': 0.25, 'random_state': None, 'shuffle': True, 'tol': 0.001, 'validation_fraction': 0.1, 'verbose': 0, 'warm_start': False}\n",
      "{'algorithm': 'auto', 'leaf_size': 30, 'metric': 'minkowski', 'metric_params': None, 'n_jobs': None, 'n_neighbors': 5, 'p': 2, 'weights': 'uniform'}\n",
      "{'alpha': 0.9, 'ccp_alpha': 0.0, 'criterion': 'friedman_mse', 'init': None, 'learning_rate': 0.1, 'loss': 'squared_error', 'max_depth': 3, 'max_features': None, 'max_leaf_nodes': None, 'min_impurity_decrease': 0.0, 'min_samples_leaf': 1, 'min_samples_split': 2, 'min_weight_fraction_leaf': 0.0, 'n_estimators': 100, 'n_iter_no_change': None, 'random_state': None, 'subsample': 1.0, 'tol': 0.0001, 'validation_fraction': 0.1, 'verbose': 0, 'warm_start': False}\n",
      "{'copy_X': True, 'fit_intercept': True, 'n_jobs': None, 'normalize': 'deprecated', 'positive': False}\n",
      "{'alpha': 1.0, 'copy_X': True, 'fit_intercept': True, 'l1_ratio': 0.5, 'max_iter': 1000, 'normalize': 'deprecated', 'positive': False, 'precompute': False, 'random_state': None, 'selection': 'cyclic', 'tol': 0.0001, 'warm_start': False}\n",
      "{'C': 1.0, 'dual': True, 'epsilon': 0.0, 'fit_intercept': True, 'intercept_scaling': 1.0, 'loss': 'epsilon_insensitive', 'max_iter': 1000, 'random_state': None, 'tol': 0.0001, 'verbose': 0}\n",
      "{'bootstrap': True, 'ccp_alpha': 0.0, 'criterion': 'squared_error', 'max_depth': None, 'max_features': 'auto', 'max_leaf_nodes': None, 'max_samples': None, 'min_impurity_decrease': 0.0, 'min_samples_leaf': 1, 'min_samples_split': 2, 'min_weight_fraction_leaf': 0.0, 'n_estimators': 100, 'n_jobs': None, 'oob_score': False, 'random_state': None, 'verbose': 0, 'warm_start': False}\n",
      "{'ccp_alpha': 0.0, 'criterion': 'squared_error', 'max_depth': None, 'max_features': None, 'max_leaf_nodes': None, 'min_impurity_decrease': 0.0, 'min_samples_leaf': 1, 'min_samples_split': 2, 'min_weight_fraction_leaf': 0.0, 'random_state': None, 'splitter': 'best'}\n"
     ]
    }
   ],
   "source": [
    "for name, model in models.items():\n",
    "    print(model.get_params(deep=True))"
   ]
  },
  {
   "cell_type": "code",
   "execution_count": 76,
   "id": "9fde494b",
   "metadata": {},
   "outputs": [],
   "source": [
    "#help(Ridge())"
   ]
  },
  {
   "cell_type": "code",
   "execution_count": 61,
   "id": "e9b00b84",
   "metadata": {},
   "outputs": [],
   "source": [
    "parameters_lin={'copy_X': [True,False],\n",
    "                'fit_intercept': [True,False],\n",
    "                'n_jobs': [-2,-1,1,2,None],  \n",
    "                'positive': [True,False],\n",
    "               }"
   ]
  },
  {
   "cell_type": "code",
   "execution_count": 64,
   "id": "e2cb6506",
   "metadata": {},
   "outputs": [],
   "source": [
    "parameters_ridge={'alpha': [1.0,2.0,3.0,4.0],\n",
    "                 'copy_X': [True,False], \n",
    "                 'fit_intercept': [True,False], \n",
    "                 'max_iter': [1000, 15000, None],  \n",
    "                 'positive': [True,False], \n",
    "                 'random_state':[1,2,3,4,5,None] , \n",
    "                 'solver': ['auto', 'svd', 'cholesky', 'lsqr', 'sparse_cg'], \n",
    "                 'tol': [0.001, 0.002, 0.003],\n",
    "                 }"
   ]
  },
  {
   "cell_type": "code",
   "execution_count": 65,
   "id": "067eae8c",
   "metadata": {},
   "outputs": [],
   "source": [
    "parameters_lasso={'alpha': [0.0,1.0], \n",
    "                  'copy_X': [True,False], \n",
    "                  'fit_intercept': [True,False], \n",
    "                  'max_iter': [500,1000,1500],  \n",
    "                  'positive': [True,False], \n",
    "                  'precompute': [True,False], \n",
    "                  'random_state': [True,False], \n",
    "                  'selection': ['cyclic','random'], \n",
    "                  'tol': [0.0001, 0.0002],\n",
    "                  'warm_start': [True,False]\n",
    "                 }"
   ]
  },
  {
   "cell_type": "code",
   "execution_count": 68,
   "id": "877478b7",
   "metadata": {},
   "outputs": [],
   "source": [
    "parameters_sgd={'alpha': [0.0001,0.001,0.01], \n",
    "                'average': [True,False], \n",
    "                'early_stopping': [True,False], \n",
    "                'epsilon': [0.1,0.2,0.3], \n",
    "                'eta0': [0.1,0.2,0.3], \n",
    "                'fit_intercept': [True,False], \n",
    "                'l1_ratio': [0,0.15,0.5,0.75,1.0], \n",
    "                'learning_rate': ['invscaling','adaptive','constant','constant'], \n",
    "                'loss': ['squared_error', 'huber', 'epsilon_insensitive', 'squared_epsilon_insensitive'],\n",
    "                'max_iter': [500,1000,2000], \n",
    "                'n_iter_no_change': [2,5,10],\n",
    "                'penalty': ['l2','l1', 'elasticnet'], \n",
    "                'power_t': [0.25, 0.5],  \n",
    "                'shuffle': [True,False], \n",
    "                'tol': [0.001, None], \n",
    "                'validation_fraction': [0.0,0.1,0.5,0.75,1.0],\n",
    "                'verbose': [0,1,2], \n",
    "                'warm_start': [True,False]\n",
    "               }"
   ]
  },
  {
   "cell_type": "code",
   "execution_count": 69,
   "id": "0542a70b",
   "metadata": {},
   "outputs": [],
   "source": [
    "parameters_knn={'algorithm': ['auto','ball_tree', 'kd_tree', 'brute'], \n",
    "                'leaf_size': [20,30,40], \n",
    "                'metric': ['minkowski',\"precomputed\"],  \n",
    "                'n_jobs': [-1,None], \n",
    "                'n_neighbors':[1,2,3,4,5,6,7,8,9], \n",
    "                'p': [1,2], \n",
    "                'weights': ['uniform','distance']\n",
    "               }"
   ]
  },
  {
   "cell_type": "code",
   "execution_count": 71,
   "id": "3d0b08cc",
   "metadata": {},
   "outputs": [],
   "source": [
    "parameters_grad={'alpha': [0.1, 0.5, 0.9], \n",
    "                 'ccp_alpha': [0.0,0.1, 0.5, 0.9], \n",
    "                 'criterion': ['friedman_mse', 'squared_error', 'mse', 'mae'],  \n",
    "                 'learning_rate': [0.1, 0.5], \n",
    "                 'loss': ['squared_error', 'absolute_error', 'huber', 'quantile'], \n",
    "                 'max_depth': [1,2,3,4,5], \n",
    "                 'max_features': ['auto', 'sqrt', 'log2',None], \n",
    "                 'max_leaf_nodes':[50,100,200, None], \n",
    "                 'min_impurity_decrease': [0.0,0.1,0.5,1.0], \n",
    "                 'min_samples_leaf': [1,2,3,4,5], \n",
    "                 'min_samples_split': [1,2,3,4,5], \n",
    "                 'min_weight_fraction_leaf': [0.0, 0.5],\n",
    "                 'n_estimators': [100, 200,300, 500], \n",
    "                 'n_iter_no_change': [2,5,10,None],  \n",
    "                 'subsample': [0.1,0.5,1.0], \n",
    "                 'tol': [0.0001, 0.0002, 0.0003, 0.0004, 0.0005],\n",
    "                 'validation_fraction': [0.0,0.1,0.5, 0.75,1.0], \n",
    "                 'verbose': [0,1,2],\n",
    "                 'warm_start': [True,False]}"
   ]
  },
  {
   "cell_type": "code",
   "execution_count": 72,
   "id": "a2c424df",
   "metadata": {},
   "outputs": [],
   "source": [
    "parameter_elast = {'alpha': [1.0, 2.0, 3.0, 4.0, 5.0], \n",
    "                   'copy_X': [True, False],\n",
    "                   'fit_intercept': [True, False],\n",
    "                   'l1_ratio': [0.1, 0.5, 1.0], \n",
    "                   'max_iter': [1000, 2000, 3000, 4000, 5000], \n",
    "                   'positive': [True, False],\n",
    "                   'precompute': [True, False],\n",
    "                   'selection': ['cyclic', 'random'], \n",
    "                   'tol': [0.0001, 0.0002, 0.0003, 0.0004, 0.0005],\n",
    "                   'warm_start': [True, False],\n",
    "                  }"
   ]
  },
  {
   "cell_type": "code",
   "execution_count": 73,
   "id": "04c50168",
   "metadata": {},
   "outputs": [],
   "source": [
    "parameters_svr = {'C': [1.0, 2.0, 3.0, 4.0, 5.0], \n",
    "                  'dual': [True, False], \n",
    "                  'epsilon': [0.0, 1.0, 2.0, 3.0, 4.0, 5.0],\n",
    "                  'fit_intercept': [True, False], \n",
    "                  'intercept_scaling': [1.0, 2.0, 3.0, 4.0, 5.0],\n",
    "                  'loss': ['epsilon_insensitive', 'squared_epsilon_insensitive'], \n",
    "                  'max_iter': [1000, 2000, 3000, 4000, 5000], \n",
    "                  'tol': [0.0001, 0.0002, 0.0003, 0.0004, 0.0005],\n",
    "                  'verbose': [0, 1, 2]\n",
    "                 }"
   ]
  },
  {
   "cell_type": "code",
   "execution_count": 74,
   "id": "ebdd543c",
   "metadata": {},
   "outputs": [],
   "source": [
    "parameters_rand = {'bootstrap': [True, False],\n",
    " 'max_depth': [10, 20, 30, 40, 50, 60, 70, 80, 90, 100, None],\n",
    " 'max_features': ['auto', 'sqrt'],\n",
    " 'min_samples_leaf': [1, 2, 4],\n",
    " 'min_samples_split': [2, 5, 10],\n",
    " 'n_estimators': [200, 400, 600, 800, 1000, 1200, 1400, 1600, 1800, 2000]}"
   ]
  },
  {
   "cell_type": "code",
   "execution_count": 75,
   "id": "ff79941d",
   "metadata": {},
   "outputs": [],
   "source": [
    "paremeters_tree = {'ccp_alpha': [0.0, 0.1, 0.2],\n",
    "                   'criterion': 'squared_error', \n",
    "                   'max_depth': [0,1,2,3,4,5,None], \n",
    "                   'max_features': [\"auto\", \"sqrt\", \"log2\", None],\n",
    "                   'max_leaf_nodes': [0,1,2,3,4,5,None], \n",
    "                   'min_impurity_decrease': [0.0, 0.1, 0.2],\n",
    "                   'min_samples_leaf': [1,2,3,4,5], \n",
    "                   'min_samples_split': [1,2,3,4,5],\n",
    "                   'min_weight_fraction_leaf': [0.0, 0.1, 0.2],\n",
    "                   'splitter': ['best', 'random']\n",
    "                  }"
   ]
  },
  {
   "cell_type": "code",
   "execution_count": null,
   "id": "698641dc",
   "metadata": {},
   "outputs": [],
   "source": [
    "parameters = {}"
   ]
  },
  {
   "cell_type": "code",
   "execution_count": 47,
   "id": "4e146e2c",
   "metadata": {},
   "outputs": [
    {
     "name": "stdout",
     "output_type": "stream",
     "text": [
      "ENTRENANDO:  ridge\n",
      "ENTRENANDO:  lasso\n",
      "ENTRENANDO:  sgd\n",
      "ENTRENANDO:  knn\n",
      "ENTRENANDO:  grad\n",
      "ENTRENANDO:  lin\n",
      "ENTRENANDO:  elast\n",
      "ENTRENANDO:  svr\n",
      "ENTRENANDO:  rand\n",
      "ENTRENANDO:  tree\n"
     ]
    }
   ],
   "source": [
    "for name, model in models.items():\n",
    "    print(\"ENTRENANDO: \", name)\n",
    "    model.fit(X_train, y_train)"
   ]
  },
  {
   "cell_type": "code",
   "execution_count": 48,
   "id": "8e1a0332",
   "metadata": {},
   "outputs": [],
   "source": [
    " from sklearn.model_selection import GridSearchCV"
   ]
  },
  {
   "cell_type": "code",
   "execution_count": null,
   "id": "67d0663a",
   "metadata": {},
   "outputs": [],
   "source": []
  },
  {
   "cell_type": "code",
   "execution_count": 36,
   "id": "43a0f872",
   "metadata": {},
   "outputs": [
    {
     "name": "stdout",
     "output_type": "stream",
     "text": [
      "------ridge------\n",
      "RMSE - Raiz Error Cuadratico Medio 1235.6585374019933\n",
      "------lasso------\n",
      "RMSE - Raiz Error Cuadratico Medio 1235.6344115792654\n",
      "------sgd------\n",
      "RMSE - Raiz Error Cuadratico Medio 63628805.479685344\n",
      "------knn------\n",
      "RMSE - Raiz Error Cuadratico Medio 1916.894491166182\n",
      "------grad------\n",
      "RMSE - Raiz Error Cuadratico Medio 627.6887579511445\n",
      "------lin------\n",
      "RMSE - Raiz Error Cuadratico Medio 1235.6636292271971\n",
      "------elast------\n",
      "RMSE - Raiz Error Cuadratico Medio 2947.3853634412353\n",
      "------svr------\n",
      "RMSE - Raiz Error Cuadratico Medio 1893.2766716970614\n"
     ]
    }
   ],
   "source": [
    "for name, model in models.items():\n",
    "    y_pred = model.predict(X_test)\n",
    "    print(f\"------{name}------\")\n",
    "    print('RMSE - Raiz Error Cuadratico Medio', np.sqrt(metrics.mean_squared_error(y_test, y_pred)))"
   ]
  },
  {
   "cell_type": "markdown",
   "id": "d8dd4232",
   "metadata": {},
   "source": [
    "#### Elegimos el modelo \"grad\" a partir del cual haremos el árbol "
   ]
  },
  {
   "cell_type": "code",
   "execution_count": null,
   "id": "c4161222",
   "metadata": {},
   "outputs": [],
   "source": []
  }
 ],
 "metadata": {
  "kernelspec": {
   "display_name": "ironhack",
   "language": "python",
   "name": "ironhack"
  },
  "language_info": {
   "codemirror_mode": {
    "name": "ipython",
    "version": 3
   },
   "file_extension": ".py",
   "mimetype": "text/x-python",
   "name": "python",
   "nbconvert_exporter": "python",
   "pygments_lexer": "ipython3",
   "version": "3.8.5"
  }
 },
 "nbformat": 4,
 "nbformat_minor": 5
}
