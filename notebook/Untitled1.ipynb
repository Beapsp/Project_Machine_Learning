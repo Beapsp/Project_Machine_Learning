{
 "cells": [
  {
   "cell_type": "code",
   "execution_count": 45,
   "id": "863bc10c",
   "metadata": {},
   "outputs": [],
   "source": [
    "import pandas as pd\n",
    "from sklearn.model_selection import train_test_split\n",
    "from sklearn.linear_model import LinearRegression \n",
    "from sklearn import metrics\n",
    "import numpy as np\n",
    "from sklearn.ensemble import RandomForestRegressor\n",
    "from sklearn.tree import DecisionTreeRegressor"
   ]
  },
  {
   "cell_type": "markdown",
   "id": "4f2f9f27",
   "metadata": {},
   "source": [
    "#### Importo mi csv de train limpio"
   ]
  },
  {
   "cell_type": "code",
   "execution_count": null,
   "id": "bb2725a6",
   "metadata": {},
   "outputs": [],
   "source": [
    "df_diamond2 = pd.read_csv(\"../data/clean_diamond_train.csv\")"
   ]
  },
  {
   "cell_type": "code",
   "execution_count": 6,
   "id": "c7a07e04",
   "metadata": {},
   "outputs": [
    {
     "data": {
      "text/html": [
       "<div>\n",
       "<style scoped>\n",
       "    .dataframe tbody tr th:only-of-type {\n",
       "        vertical-align: middle;\n",
       "    }\n",
       "\n",
       "    .dataframe tbody tr th {\n",
       "        vertical-align: top;\n",
       "    }\n",
       "\n",
       "    .dataframe thead th {\n",
       "        text-align: right;\n",
       "    }\n",
       "</style>\n",
       "<table border=\"1\" class=\"dataframe\">\n",
       "  <thead>\n",
       "    <tr style=\"text-align: right;\">\n",
       "      <th></th>\n",
       "      <th>Unnamed: 0</th>\n",
       "      <th>id</th>\n",
       "      <th>carat</th>\n",
       "      <th>depth</th>\n",
       "      <th>table</th>\n",
       "      <th>price</th>\n",
       "      <th>cut_n</th>\n",
       "      <th>color_n</th>\n",
       "      <th>clarity_n</th>\n",
       "    </tr>\n",
       "  </thead>\n",
       "  <tbody>\n",
       "    <tr>\n",
       "      <th>0</th>\n",
       "      <td>0</td>\n",
       "      <td>0</td>\n",
       "      <td>1.14</td>\n",
       "      <td>61.0</td>\n",
       "      <td>56.0</td>\n",
       "      <td>9013</td>\n",
       "      <td>4</td>\n",
       "      <td>4</td>\n",
       "      <td>3</td>\n",
       "    </tr>\n",
       "    <tr>\n",
       "      <th>1</th>\n",
       "      <td>1</td>\n",
       "      <td>1</td>\n",
       "      <td>0.76</td>\n",
       "      <td>62.7</td>\n",
       "      <td>57.0</td>\n",
       "      <td>2692</td>\n",
       "      <td>4</td>\n",
       "      <td>3</td>\n",
       "      <td>5</td>\n",
       "    </tr>\n",
       "    <tr>\n",
       "      <th>2</th>\n",
       "      <td>2</td>\n",
       "      <td>2</td>\n",
       "      <td>0.84</td>\n",
       "      <td>61.4</td>\n",
       "      <td>56.0</td>\n",
       "      <td>4372</td>\n",
       "      <td>4</td>\n",
       "      <td>4</td>\n",
       "      <td>4</td>\n",
       "    </tr>\n",
       "    <tr>\n",
       "      <th>3</th>\n",
       "      <td>3</td>\n",
       "      <td>3</td>\n",
       "      <td>1.55</td>\n",
       "      <td>62.0</td>\n",
       "      <td>57.0</td>\n",
       "      <td>13665</td>\n",
       "      <td>4</td>\n",
       "      <td>3</td>\n",
       "      <td>4</td>\n",
       "    </tr>\n",
       "    <tr>\n",
       "      <th>4</th>\n",
       "      <td>4</td>\n",
       "      <td>4</td>\n",
       "      <td>0.30</td>\n",
       "      <td>61.9</td>\n",
       "      <td>57.0</td>\n",
       "      <td>422</td>\n",
       "      <td>4</td>\n",
       "      <td>4</td>\n",
       "      <td>7</td>\n",
       "    </tr>\n",
       "  </tbody>\n",
       "</table>\n",
       "</div>"
      ],
      "text/plain": [
       "   Unnamed: 0  id  carat  depth  table  price  cut_n  color_n  clarity_n\n",
       "0           0   0   1.14   61.0   56.0   9013      4        4          3\n",
       "1           1   1   0.76   62.7   57.0   2692      4        3          5\n",
       "2           2   2   0.84   61.4   56.0   4372      4        4          4\n",
       "3           3   3   1.55   62.0   57.0  13665      4        3          4\n",
       "4           4   4   0.30   61.9   57.0    422      4        4          7"
      ]
     },
     "execution_count": 6,
     "metadata": {},
     "output_type": "execute_result"
    }
   ],
   "source": [
    "df_diamond2.head()"
   ]
  },
  {
   "cell_type": "markdown",
   "id": "043ae890",
   "metadata": {},
   "source": [
    "#### Elimino las columnas de Unnamed, id, y price ya que para nuestro entrenamiento no son necesarias, defiiniendo así las variables X e y"
   ]
  },
  {
   "cell_type": "code",
   "execution_count": 7,
   "id": "61fd39d2",
   "metadata": {},
   "outputs": [],
   "source": [
    "X = df_diamond2.drop(columns =[\"id\",\"price\", \"Unnamed: 0\"]) #no implace = true"
   ]
  },
  {
   "cell_type": "code",
   "execution_count": 9,
   "id": "3ea44e09",
   "metadata": {},
   "outputs": [
    {
     "data": {
      "text/html": [
       "<div>\n",
       "<style scoped>\n",
       "    .dataframe tbody tr th:only-of-type {\n",
       "        vertical-align: middle;\n",
       "    }\n",
       "\n",
       "    .dataframe tbody tr th {\n",
       "        vertical-align: top;\n",
       "    }\n",
       "\n",
       "    .dataframe thead th {\n",
       "        text-align: right;\n",
       "    }\n",
       "</style>\n",
       "<table border=\"1\" class=\"dataframe\">\n",
       "  <thead>\n",
       "    <tr style=\"text-align: right;\">\n",
       "      <th></th>\n",
       "      <th>carat</th>\n",
       "      <th>depth</th>\n",
       "      <th>table</th>\n",
       "      <th>cut_n</th>\n",
       "      <th>color_n</th>\n",
       "      <th>clarity_n</th>\n",
       "    </tr>\n",
       "  </thead>\n",
       "  <tbody>\n",
       "    <tr>\n",
       "      <th>0</th>\n",
       "      <td>1.14</td>\n",
       "      <td>61.0</td>\n",
       "      <td>56.0</td>\n",
       "      <td>4</td>\n",
       "      <td>4</td>\n",
       "      <td>3</td>\n",
       "    </tr>\n",
       "    <tr>\n",
       "      <th>1</th>\n",
       "      <td>0.76</td>\n",
       "      <td>62.7</td>\n",
       "      <td>57.0</td>\n",
       "      <td>4</td>\n",
       "      <td>3</td>\n",
       "      <td>5</td>\n",
       "    </tr>\n",
       "    <tr>\n",
       "      <th>2</th>\n",
       "      <td>0.84</td>\n",
       "      <td>61.4</td>\n",
       "      <td>56.0</td>\n",
       "      <td>4</td>\n",
       "      <td>4</td>\n",
       "      <td>4</td>\n",
       "    </tr>\n",
       "    <tr>\n",
       "      <th>3</th>\n",
       "      <td>1.55</td>\n",
       "      <td>62.0</td>\n",
       "      <td>57.0</td>\n",
       "      <td>4</td>\n",
       "      <td>3</td>\n",
       "      <td>4</td>\n",
       "    </tr>\n",
       "    <tr>\n",
       "      <th>4</th>\n",
       "      <td>0.30</td>\n",
       "      <td>61.9</td>\n",
       "      <td>57.0</td>\n",
       "      <td>4</td>\n",
       "      <td>4</td>\n",
       "      <td>7</td>\n",
       "    </tr>\n",
       "  </tbody>\n",
       "</table>\n",
       "</div>"
      ],
      "text/plain": [
       "   carat  depth  table  cut_n  color_n  clarity_n\n",
       "0   1.14   61.0   56.0      4        4          3\n",
       "1   0.76   62.7   57.0      4        3          5\n",
       "2   0.84   61.4   56.0      4        4          4\n",
       "3   1.55   62.0   57.0      4        3          4\n",
       "4   0.30   61.9   57.0      4        4          7"
      ]
     },
     "execution_count": 9,
     "metadata": {},
     "output_type": "execute_result"
    }
   ],
   "source": [
    "X.head()"
   ]
  },
  {
   "cell_type": "code",
   "execution_count": 10,
   "id": "1747aabd",
   "metadata": {},
   "outputs": [],
   "source": [
    "y = df_diamond2.price"
   ]
  },
  {
   "cell_type": "markdown",
   "id": "94f06586",
   "metadata": {},
   "source": [
    "### Comenzamos el entramiento"
   ]
  },
  {
   "cell_type": "code",
   "execution_count": 13,
   "id": "73f2dfd7",
   "metadata": {},
   "outputs": [],
   "source": [
    "X_train, X_test, y_train, y_test = train_test_split(X,y, test_size=0.2)"
   ]
  },
  {
   "cell_type": "code",
   "execution_count": 14,
   "id": "6c62afbf",
   "metadata": {},
   "outputs": [
    {
     "data": {
      "text/plain": [
       "(32364, 6)"
      ]
     },
     "execution_count": 14,
     "metadata": {},
     "output_type": "execute_result"
    }
   ],
   "source": [
    "X_train.shape"
   ]
  },
  {
   "cell_type": "code",
   "execution_count": 15,
   "id": "09e341ed",
   "metadata": {},
   "outputs": [
    {
     "data": {
      "text/plain": [
       "(32364,)"
      ]
     },
     "execution_count": 15,
     "metadata": {},
     "output_type": "execute_result"
    }
   ],
   "source": [
    "y_train.shape"
   ]
  },
  {
   "cell_type": "code",
   "execution_count": 16,
   "id": "e1467bb6",
   "metadata": {},
   "outputs": [
    {
     "data": {
      "text/plain": [
       "(8091, 6)"
      ]
     },
     "execution_count": 16,
     "metadata": {},
     "output_type": "execute_result"
    }
   ],
   "source": [
    "X_test.shape"
   ]
  },
  {
   "cell_type": "code",
   "execution_count": 17,
   "id": "3a4e5006",
   "metadata": {},
   "outputs": [
    {
     "data": {
      "text/plain": [
       "(8091,)"
      ]
     },
     "execution_count": 17,
     "metadata": {},
     "output_type": "execute_result"
    }
   ],
   "source": [
    "y_test.shape"
   ]
  },
  {
   "cell_type": "markdown",
   "id": "f1d6456e",
   "metadata": {},
   "source": [
    "### Entreno varios modelos de regresión para comparar y elegir el adecuado"
   ]
  },
  {
   "cell_type": "code",
   "execution_count": 39,
   "id": "bedb6aec",
   "metadata": {},
   "outputs": [],
   "source": [
    "from sklearn.linear_model import Ridge, Lasso\n",
    "\n",
    "from sklearn.linear_model import SGDRegressor\n",
    "\n",
    "from sklearn.neighbors import KNeighborsRegressor\n",
    "\n",
    "from sklearn.ensemble import GradientBoostingRegressor\n",
    "\n",
    "from sklearn.svm import SVR\n",
    "\n",
    "from sklearn.linear_model import ElasticNet\n",
    "\n",
    "from sklearn.svm import LinearSVR \n",
    "\n",
    "from sklearn.tree import DecisionTreeClassifier"
   ]
  },
  {
   "cell_type": "code",
   "execution_count": 91,
   "id": "206dd84b",
   "metadata": {},
   "outputs": [],
   "source": [
    "models={\n",
    "    'ridge': Ridge(),\n",
    "    'lasso': Lasso(),\n",
    "    'sgd': SGDRegressor(),\n",
    "    'knn': KNeighborsRegressor(),\n",
    "    'grad': GradientBoostingRegressor(),\n",
    "    'lin': LinearRegression(),\n",
    "    'elast': ElasticNet(),\n",
    "    'svr': LinearSVR(),\n",
    "    'rand': RandomForestRegressor(),\n",
    "    'tree': DecisionTreeRegressor(),\n",
    "    \n",
    "}"
   ]
  },
  {
   "cell_type": "markdown",
   "id": "dffe13d7",
   "metadata": {},
   "source": [
    "#### Entreno los modelos con el 80% de los datos totales del dataset train."
   ]
  },
  {
   "cell_type": "code",
   "execution_count": 92,
   "id": "dcbce213",
   "metadata": {},
   "outputs": [
    {
     "name": "stdout",
     "output_type": "stream",
     "text": [
      "ENTRENANDO:  ridge\n",
      "ENTRENANDO:  lasso\n",
      "ENTRENANDO:  sgd\n",
      "ENTRENANDO:  knn\n",
      "ENTRENANDO:  grad\n",
      "ENTRENANDO:  lin\n",
      "ENTRENANDO:  elast\n",
      "ENTRENANDO:  svr\n",
      "ENTRENANDO:  rand\n",
      "ENTRENANDO:  tree\n"
     ]
    }
   ],
   "source": [
    "for name, model in models.items():\n",
    "    print(\"ENTRENANDO: \", name)\n",
    "    model.fit(X_train, y_train)"
   ]
  },
  {
   "cell_type": "markdown",
   "id": "db0e32a6",
   "metadata": {},
   "source": [
    "#### Hago la predicción en base a X_test, que es el 20% del dataset train"
   ]
  },
  {
   "cell_type": "code",
   "execution_count": 93,
   "id": "5051a6d9",
   "metadata": {},
   "outputs": [
    {
     "name": "stdout",
     "output_type": "stream",
     "text": [
      "------ridge------\n",
      "RMSE - Raiz Error Cuadratico Medio 1235.6585374019933\n",
      "------lasso------\n",
      "RMSE - Raiz Error Cuadratico Medio 1235.6344115792654\n",
      "------sgd------\n",
      "RMSE - Raiz Error Cuadratico Medio 3380837.2113534156\n",
      "------knn------\n",
      "RMSE - Raiz Error Cuadratico Medio 1916.894491166182\n",
      "------grad------\n",
      "RMSE - Raiz Error Cuadratico Medio 627.6887579511448\n",
      "------lin------\n",
      "RMSE - Raiz Error Cuadratico Medio 1235.6636292271971\n",
      "------elast------\n",
      "RMSE - Raiz Error Cuadratico Medio 2947.3853634412353\n",
      "------svr------\n",
      "RMSE - Raiz Error Cuadratico Medio 1892.4158990061844\n",
      "------rand------\n",
      "RMSE - Raiz Error Cuadratico Medio 557.0069230570623\n",
      "------tree------\n",
      "RMSE - Raiz Error Cuadratico Medio 736.1822944100163\n"
     ]
    }
   ],
   "source": [
    "for name, model in models.items():\n",
    "    y_pred = model.predict(X_test)\n",
    "    print(f\"------{name}------\")\n",
    "    print('RMSE - Raiz Error Cuadratico Medio', np.sqrt(metrics.mean_squared_error(y_test, y_pred)))"
   ]
  },
  {
   "cell_type": "markdown",
   "id": "e64d5e7a",
   "metadata": {},
   "source": [
    "### Nos quedamos con los 3 mejores modelos que serían los que tienen menor error cuadrático medio y los entrenos de nuevo en base al total de valores de train (X, y)"
   ]
  },
  {
   "cell_type": "code",
   "execution_count": 94,
   "id": "06e8e2a2",
   "metadata": {},
   "outputs": [],
   "source": [
    "models_mejores={\n",
    "    'grad': GradientBoostingRegressor(),\n",
    "    'rand': RandomForestRegressor(),\n",
    "    'tree': DecisionTreeRegressor(),\n",
    "    \n",
    "}"
   ]
  },
  {
   "cell_type": "code",
   "execution_count": 95,
   "id": "23cc3fb3",
   "metadata": {},
   "outputs": [
    {
     "name": "stdout",
     "output_type": "stream",
     "text": [
      "ENTRENANDO:  grad\n",
      "ENTRENANDO:  rand\n",
      "ENTRENANDO:  tree\n"
     ]
    }
   ],
   "source": [
    "for name, model in models_mejores.items():\n",
    "    print(\"ENTRENANDO: \", name)\n",
    "    model.fit(X, y)"
   ]
  },
  {
   "cell_type": "code",
   "execution_count": 96,
   "id": "559a4328",
   "metadata": {},
   "outputs": [
    {
     "name": "stdout",
     "output_type": "stream",
     "text": [
      "------grad------\n",
      "RMSE - Raiz Error Cuadratico Medio 610.7211689205224\n",
      "------rand------\n",
      "RMSE - Raiz Error Cuadratico Medio 210.86924965393433\n",
      "------tree------\n",
      "RMSE - Raiz Error Cuadratico Medio 55.99749897463047\n"
     ]
    }
   ],
   "source": [
    "for name, model in models_mejores.items():\n",
    "    y_pred_X = model.predict(X)\n",
    "    print(f\"------{name}------\")\n",
    "    print('RMSE - Raiz Error Cuadratico Medio', np.sqrt(metrics.mean_squared_error(y, y_pred_X)))"
   ]
  },
  {
   "cell_type": "markdown",
   "id": "82bf8119",
   "metadata": {},
   "source": [
    "### Predicción con test"
   ]
  },
  {
   "cell_type": "code",
   "execution_count": 103,
   "id": "276f2f34",
   "metadata": {},
   "outputs": [],
   "source": [
    "df_diamond_test = pd.read_csv(\"../data/clean_diamond_test.csv\",encoding = \"ISO-8859-1\")"
   ]
  },
  {
   "cell_type": "code",
   "execution_count": 104,
   "id": "f7b529eb",
   "metadata": {},
   "outputs": [
    {
     "data": {
      "text/html": [
       "<div>\n",
       "<style scoped>\n",
       "    .dataframe tbody tr th:only-of-type {\n",
       "        vertical-align: middle;\n",
       "    }\n",
       "\n",
       "    .dataframe tbody tr th {\n",
       "        vertical-align: top;\n",
       "    }\n",
       "\n",
       "    .dataframe thead th {\n",
       "        text-align: right;\n",
       "    }\n",
       "</style>\n",
       "<table border=\"1\" class=\"dataframe\">\n",
       "  <thead>\n",
       "    <tr style=\"text-align: right;\">\n",
       "      <th></th>\n",
       "      <th>Unnamed: 0</th>\n",
       "      <th>id</th>\n",
       "      <th>carat</th>\n",
       "      <th>depth</th>\n",
       "      <th>table</th>\n",
       "      <th>cut_n</th>\n",
       "      <th>color_n</th>\n",
       "      <th>clarity_n</th>\n",
       "    </tr>\n",
       "  </thead>\n",
       "  <tbody>\n",
       "    <tr>\n",
       "      <th>0</th>\n",
       "      <td>0</td>\n",
       "      <td>0</td>\n",
       "      <td>1.00</td>\n",
       "      <td>56.3</td>\n",
       "      <td>64.0</td>\n",
       "      <td>1</td>\n",
       "      <td>1</td>\n",
       "      <td>7</td>\n",
       "    </tr>\n",
       "    <tr>\n",
       "      <th>1</th>\n",
       "      <td>1</td>\n",
       "      <td>1</td>\n",
       "      <td>0.83</td>\n",
       "      <td>62.3</td>\n",
       "      <td>58.0</td>\n",
       "      <td>5</td>\n",
       "      <td>4</td>\n",
       "      <td>6</td>\n",
       "    </tr>\n",
       "    <tr>\n",
       "      <th>2</th>\n",
       "      <td>2</td>\n",
       "      <td>2</td>\n",
       "      <td>1.00</td>\n",
       "      <td>67.0</td>\n",
       "      <td>53.0</td>\n",
       "      <td>1</td>\n",
       "      <td>6</td>\n",
       "      <td>7</td>\n",
       "    </tr>\n",
       "    <tr>\n",
       "      <th>3</th>\n",
       "      <td>3</td>\n",
       "      <td>3</td>\n",
       "      <td>1.00</td>\n",
       "      <td>66.5</td>\n",
       "      <td>62.0</td>\n",
       "      <td>1</td>\n",
       "      <td>3</td>\n",
       "      <td>7</td>\n",
       "    </tr>\n",
       "    <tr>\n",
       "      <th>4</th>\n",
       "      <td>4</td>\n",
       "      <td>4</td>\n",
       "      <td>1.20</td>\n",
       "      <td>62.6</td>\n",
       "      <td>57.0</td>\n",
       "      <td>3</td>\n",
       "      <td>2</td>\n",
       "      <td>6</td>\n",
       "    </tr>\n",
       "    <tr>\n",
       "      <th>...</th>\n",
       "      <td>...</td>\n",
       "      <td>...</td>\n",
       "      <td>...</td>\n",
       "      <td>...</td>\n",
       "      <td>...</td>\n",
       "      <td>...</td>\n",
       "      <td>...</td>\n",
       "      <td>...</td>\n",
       "    </tr>\n",
       "    <tr>\n",
       "      <th>13480</th>\n",
       "      <td>13480</td>\n",
       "      <td>13480</td>\n",
       "      <td>1.00</td>\n",
       "      <td>61.5</td>\n",
       "      <td>59.0</td>\n",
       "      <td>5</td>\n",
       "      <td>5</td>\n",
       "      <td>3</td>\n",
       "    </tr>\n",
       "    <tr>\n",
       "      <th>13481</th>\n",
       "      <td>13481</td>\n",
       "      <td>13481</td>\n",
       "      <td>2.12</td>\n",
       "      <td>60.6</td>\n",
       "      <td>59.0</td>\n",
       "      <td>5</td>\n",
       "      <td>2</td>\n",
       "      <td>7</td>\n",
       "    </tr>\n",
       "    <tr>\n",
       "      <th>13482</th>\n",
       "      <td>13482</td>\n",
       "      <td>13482</td>\n",
       "      <td>1.10</td>\n",
       "      <td>60.7</td>\n",
       "      <td>57.0</td>\n",
       "      <td>4</td>\n",
       "      <td>5</td>\n",
       "      <td>5</td>\n",
       "    </tr>\n",
       "    <tr>\n",
       "      <th>13483</th>\n",
       "      <td>13483</td>\n",
       "      <td>13483</td>\n",
       "      <td>0.34</td>\n",
       "      <td>63.1</td>\n",
       "      <td>56.0</td>\n",
       "      <td>2</td>\n",
       "      <td>2</td>\n",
       "      <td>3</td>\n",
       "    </tr>\n",
       "    <tr>\n",
       "      <th>13484</th>\n",
       "      <td>13484</td>\n",
       "      <td>13484</td>\n",
       "      <td>0.37</td>\n",
       "      <td>61.4</td>\n",
       "      <td>55.0</td>\n",
       "      <td>4</td>\n",
       "      <td>4</td>\n",
       "      <td>1</td>\n",
       "    </tr>\n",
       "  </tbody>\n",
       "</table>\n",
       "<p>13485 rows × 8 columns</p>\n",
       "</div>"
      ],
      "text/plain": [
       "       Unnamed: 0     id  carat  depth  table  cut_n  color_n  clarity_n\n",
       "0               0      0   1.00   56.3   64.0      1        1          7\n",
       "1               1      1   0.83   62.3   58.0      5        4          6\n",
       "2               2      2   1.00   67.0   53.0      1        6          7\n",
       "3               3      3   1.00   66.5   62.0      1        3          7\n",
       "4               4      4   1.20   62.6   57.0      3        2          6\n",
       "...           ...    ...    ...    ...    ...    ...      ...        ...\n",
       "13480       13480  13480   1.00   61.5   59.0      5        5          3\n",
       "13481       13481  13481   2.12   60.6   59.0      5        2          7\n",
       "13482       13482  13482   1.10   60.7   57.0      4        5          5\n",
       "13483       13483  13483   0.34   63.1   56.0      2        2          3\n",
       "13484       13484  13484   0.37   61.4   55.0      4        4          1\n",
       "\n",
       "[13485 rows x 8 columns]"
      ]
     },
     "execution_count": 104,
     "metadata": {},
     "output_type": "execute_result"
    }
   ],
   "source": [
    "df_diamond_test"
   ]
  },
  {
   "cell_type": "markdown",
   "id": "18aa9355",
   "metadata": {},
   "source": [
    "#### Elimino las columnas que no me dan valor para poder hacer la predicción de test"
   ]
  },
  {
   "cell_type": "code",
   "execution_count": 106,
   "id": "34ee08d6",
   "metadata": {},
   "outputs": [],
   "source": [
    "test_t = df_diamond_test.drop(columns =[\"id\", \"Unnamed: 0\"]) #inlcuyo en variable para no modificar el dataset original"
   ]
  },
  {
   "cell_type": "code",
   "execution_count": 97,
   "id": "c0830c98",
   "metadata": {},
   "outputs": [],
   "source": [
    "tree = models_mejores [\"tree\"]"
   ]
  },
  {
   "cell_type": "code",
   "execution_count": 107,
   "id": "0d2fadc0",
   "metadata": {},
   "outputs": [],
   "source": [
    "y_pred_test = tree.predict(test_t)"
   ]
  },
  {
   "cell_type": "markdown",
   "id": "8fc86264",
   "metadata": {},
   "source": [
    "#### Incluyo la columna \"price\" a mi dataset y elimino el resto de columnas excepto el id para poder llevar a cabo la submission1"
   ]
  },
  {
   "cell_type": "code",
   "execution_count": 108,
   "id": "de3a0def",
   "metadata": {},
   "outputs": [],
   "source": [
    "df_diamond_test[\"price\"] = y_pred_test"
   ]
  },
  {
   "cell_type": "code",
   "execution_count": 112,
   "id": "4fcc6975",
   "metadata": {},
   "outputs": [],
   "source": [
    "test2= df_diamond_test.drop(columns =[\"Unnamed: 0\", \"carat\", \"depth\",\"table\",\"cut_n\",\"color_n\", \"clarity_n\"]) #inlcuyo en variable para no modificar el dataset original"
   ]
  },
  {
   "cell_type": "code",
   "execution_count": 114,
   "id": "ef1cfd01",
   "metadata": {},
   "outputs": [],
   "source": [
    "test2.to_csv(\"../data/submission1.csv\", index=False)"
   ]
  },
  {
   "cell_type": "markdown",
   "id": "12954768",
   "metadata": {},
   "source": [
    "### Para mejorar el modelo les incluyo sus parámetros"
   ]
  },
  {
   "cell_type": "markdown",
   "id": "fe6a66c3",
   "metadata": {},
   "source": [
    "#### Utilizo get_params para obtener los parámetros de todos los modelos que he utilizado"
   ]
  },
  {
   "cell_type": "code",
   "execution_count": 49,
   "id": "c025be32",
   "metadata": {},
   "outputs": [
    {
     "name": "stdout",
     "output_type": "stream",
     "text": [
      "{'alpha': 1.0, 'copy_X': True, 'fit_intercept': True, 'max_iter': None, 'normalize': 'deprecated', 'positive': False, 'random_state': None, 'solver': 'auto', 'tol': 0.001}\n",
      "{'alpha': 1.0, 'copy_X': True, 'fit_intercept': True, 'max_iter': 1000, 'normalize': 'deprecated', 'positive': False, 'precompute': False, 'random_state': None, 'selection': 'cyclic', 'tol': 0.0001, 'warm_start': False}\n",
      "{'alpha': 0.0001, 'average': False, 'early_stopping': False, 'epsilon': 0.1, 'eta0': 0.01, 'fit_intercept': True, 'l1_ratio': 0.15, 'learning_rate': 'invscaling', 'loss': 'squared_error', 'max_iter': 1000, 'n_iter_no_change': 5, 'penalty': 'l2', 'power_t': 0.25, 'random_state': None, 'shuffle': True, 'tol': 0.001, 'validation_fraction': 0.1, 'verbose': 0, 'warm_start': False}\n",
      "{'algorithm': 'auto', 'leaf_size': 30, 'metric': 'minkowski', 'metric_params': None, 'n_jobs': None, 'n_neighbors': 5, 'p': 2, 'weights': 'uniform'}\n",
      "{'alpha': 0.9, 'ccp_alpha': 0.0, 'criterion': 'friedman_mse', 'init': None, 'learning_rate': 0.1, 'loss': 'squared_error', 'max_depth': 3, 'max_features': None, 'max_leaf_nodes': None, 'min_impurity_decrease': 0.0, 'min_samples_leaf': 1, 'min_samples_split': 2, 'min_weight_fraction_leaf': 0.0, 'n_estimators': 100, 'n_iter_no_change': None, 'random_state': None, 'subsample': 1.0, 'tol': 0.0001, 'validation_fraction': 0.1, 'verbose': 0, 'warm_start': False}\n",
      "{'copy_X': True, 'fit_intercept': True, 'n_jobs': None, 'normalize': 'deprecated', 'positive': False}\n",
      "{'alpha': 1.0, 'copy_X': True, 'fit_intercept': True, 'l1_ratio': 0.5, 'max_iter': 1000, 'normalize': 'deprecated', 'positive': False, 'precompute': False, 'random_state': None, 'selection': 'cyclic', 'tol': 0.0001, 'warm_start': False}\n",
      "{'C': 1.0, 'dual': True, 'epsilon': 0.0, 'fit_intercept': True, 'intercept_scaling': 1.0, 'loss': 'epsilon_insensitive', 'max_iter': 1000, 'random_state': None, 'tol': 0.0001, 'verbose': 0}\n",
      "{'bootstrap': True, 'ccp_alpha': 0.0, 'criterion': 'squared_error', 'max_depth': None, 'max_features': 'auto', 'max_leaf_nodes': None, 'max_samples': None, 'min_impurity_decrease': 0.0, 'min_samples_leaf': 1, 'min_samples_split': 2, 'min_weight_fraction_leaf': 0.0, 'n_estimators': 100, 'n_jobs': None, 'oob_score': False, 'random_state': None, 'verbose': 0, 'warm_start': False}\n",
      "{'ccp_alpha': 0.0, 'criterion': 'squared_error', 'max_depth': None, 'max_features': None, 'max_leaf_nodes': None, 'min_impurity_decrease': 0.0, 'min_samples_leaf': 1, 'min_samples_split': 2, 'min_weight_fraction_leaf': 0.0, 'random_state': None, 'splitter': 'best'}\n"
     ]
    }
   ],
   "source": [
    "for name, model in models.items():\n",
    "    print(model.get_params(deep=True))"
   ]
  },
  {
   "cell_type": "code",
   "execution_count": 76,
   "id": "c44b120b",
   "metadata": {},
   "outputs": [],
   "source": [
    "#help(Ridge())"
   ]
  },
  {
   "cell_type": "code",
   "execution_count": 61,
   "id": "100cd031",
   "metadata": {},
   "outputs": [],
   "source": [
    "parameters_lin={'copy_X': [True,False],\n",
    "                'fit_intercept': [True,False],\n",
    "                'n_jobs': [-2,-1,1,2,None],  \n",
    "                'positive': [True,False],\n",
    "               }"
   ]
  },
  {
   "cell_type": "code",
   "execution_count": 64,
   "id": "364d0835",
   "metadata": {},
   "outputs": [],
   "source": [
    "parameters_ridge={'alpha': [1.0,2.0,3.0,4.0],\n",
    "                 'copy_X': [True,False], \n",
    "                 'fit_intercept': [True,False], \n",
    "                 'max_iter': [1000, 15000, None],  \n",
    "                 'positive': [True,False], \n",
    "                 'random_state':[1,2,3,4,5,None] , \n",
    "                 'solver': ['auto', 'svd', 'cholesky', 'lsqr', 'sparse_cg'], \n",
    "                 'tol': [0.001, 0.002, 0.003],\n",
    "                 }"
   ]
  },
  {
   "cell_type": "code",
   "execution_count": 65,
   "id": "9bfff584",
   "metadata": {},
   "outputs": [],
   "source": [
    "parameters_lasso={'alpha': [0.0,1.0], \n",
    "                  'copy_X': [True,False], \n",
    "                  'fit_intercept': [True,False], \n",
    "                  'max_iter': [500,1000,1500],  \n",
    "                  'positive': [True,False], \n",
    "                  'precompute': [True,False], \n",
    "                  'random_state': [True,False], \n",
    "                  'selection': ['cyclic','random'], \n",
    "                  'tol': [0.0001, 0.0002],\n",
    "                  'warm_start': [True,False]\n",
    "                 }"
   ]
  },
  {
   "cell_type": "code",
   "execution_count": 68,
   "id": "e081ec77",
   "metadata": {},
   "outputs": [],
   "source": [
    "parameters_sgd={'alpha': [0.0001,0.001,0.01], \n",
    "                'average': [True,False], \n",
    "                'early_stopping': [True,False], \n",
    "                'epsilon': [0.1,0.2,0.3], \n",
    "                'eta0': [0.1,0.2,0.3], \n",
    "                'fit_intercept': [True,False], \n",
    "                'l1_ratio': [0,0.15,0.5,0.75,1.0], \n",
    "                'learning_rate': ['invscaling','adaptive','constant','constant'], \n",
    "                'loss': ['squared_error', 'huber', 'epsilon_insensitive', 'squared_epsilon_insensitive'],\n",
    "                'max_iter': [500,1000,2000], \n",
    "                'n_iter_no_change': [2,5,10],\n",
    "                'penalty': ['l2','l1', 'elasticnet'], \n",
    "                'power_t': [0.25, 0.5],  \n",
    "                'shuffle': [True,False], \n",
    "                'tol': [0.001, None], \n",
    "                'validation_fraction': [0.0,0.1,0.5,0.75,1.0],\n",
    "                'verbose': [0,1,2], \n",
    "                'warm_start': [True,False]\n",
    "               }"
   ]
  },
  {
   "cell_type": "code",
   "execution_count": 69,
   "id": "8a7423bb",
   "metadata": {},
   "outputs": [],
   "source": [
    "parameters_knn={'algorithm': ['auto','ball_tree', 'kd_tree', 'brute'], \n",
    "                'leaf_size': [20,30,40], \n",
    "                'metric': ['minkowski',\"precomputed\"],  \n",
    "                'n_jobs': [-1,None], \n",
    "                'n_neighbors':[1,2,3,4,5,6,7,8,9], \n",
    "                'p': [1,2], \n",
    "                'weights': ['uniform','distance']\n",
    "               }"
   ]
  },
  {
   "cell_type": "code",
   "execution_count": 71,
   "id": "c45cd2ef",
   "metadata": {},
   "outputs": [],
   "source": [
    "parameters_grad={'alpha': [0.1, 0.5, 0.9], \n",
    "                 'ccp_alpha': [0.0,0.1, 0.5, 0.9], \n",
    "                 'criterion': ['friedman_mse', 'squared_error', 'mse', 'mae'],  \n",
    "                 'learning_rate': [0.1, 0.5], \n",
    "                 'loss': ['squared_error', 'absolute_error', 'huber', 'quantile'], \n",
    "                 'max_depth': [1,2,3,4,5], \n",
    "                 'max_features': ['auto', 'sqrt', 'log2',None], \n",
    "                 'max_leaf_nodes':[50,100,200, None], \n",
    "                 'min_impurity_decrease': [0.0,0.1,0.5,1.0], \n",
    "                 'min_samples_leaf': [1,2,3,4,5], \n",
    "                 'min_samples_split': [1,2,3,4,5], \n",
    "                 'min_weight_fraction_leaf': [0.0, 0.5],\n",
    "                 'n_estimators': [100, 200,300, 500], \n",
    "                 'n_iter_no_change': [2,5,10,None],  \n",
    "                 'subsample': [0.1,0.5,1.0], \n",
    "                 'tol': [0.0001, 0.0002, 0.0003, 0.0004, 0.0005],\n",
    "                 'validation_fraction': [0.0,0.1,0.5, 0.75,1.0], \n",
    "                 'verbose': [0,1,2],\n",
    "                 'warm_start': [True,False]}"
   ]
  },
  {
   "cell_type": "code",
   "execution_count": 72,
   "id": "39fd230a",
   "metadata": {},
   "outputs": [],
   "source": [
    "parameter_elast = {'alpha': [1.0, 2.0, 3.0, 4.0, 5.0], \n",
    "                   'copy_X': [True, False],\n",
    "                   'fit_intercept': [True, False],\n",
    "                   'l1_ratio': [0.1, 0.5, 1.0], \n",
    "                   'max_iter': [1000, 2000, 3000, 4000, 5000], \n",
    "                   'positive': [True, False],\n",
    "                   'precompute': [True, False],\n",
    "                   'selection': ['cyclic', 'random'], \n",
    "                   'tol': [0.0001, 0.0002, 0.0003, 0.0004, 0.0005],\n",
    "                   'warm_start': [True, False],\n",
    "                  }"
   ]
  },
  {
   "cell_type": "code",
   "execution_count": 73,
   "id": "5fe42dbe",
   "metadata": {},
   "outputs": [],
   "source": [
    "parameters_svr = {'C': [1.0, 2.0, 3.0, 4.0, 5.0], \n",
    "                  'dual': [True, False], \n",
    "                  'epsilon': [0.0, 1.0, 2.0, 3.0, 4.0, 5.0],\n",
    "                  'fit_intercept': [True, False], \n",
    "                  'intercept_scaling': [1.0, 2.0, 3.0, 4.0, 5.0],\n",
    "                  'loss': ['epsilon_insensitive', 'squared_epsilon_insensitive'], \n",
    "                  'max_iter': [1000, 2000, 3000, 4000, 5000], \n",
    "                  'tol': [0.0001, 0.0002, 0.0003, 0.0004, 0.0005],\n",
    "                  'verbose': [0, 1, 2]\n",
    "                 }"
   ]
  },
  {
   "cell_type": "code",
   "execution_count": 74,
   "id": "23919e48",
   "metadata": {},
   "outputs": [],
   "source": [
    "parameters_rand = {'bootstrap': [True, False],\n",
    " 'max_depth': [10, 20, 30, 40, 50, 60, 70, 80, 90, 100, None],\n",
    " 'max_features': ['auto', 'sqrt'],\n",
    " 'min_samples_leaf': [1, 2, 4],\n",
    " 'min_samples_split': [2, 5, 10],\n",
    " 'n_estimators': [200, 400, 600, 800, 1000, 1200, 1400, 1600, 1800, 2000]}"
   ]
  },
  {
   "cell_type": "code",
   "execution_count": 82,
   "id": "fb4993c4",
   "metadata": {},
   "outputs": [],
   "source": [
    "parameters_tree = {'ccp_alpha': [0.0, 0.1, 0.2],\n",
    "                   'criterion': [\"squared_error\", \"friedman_mse\", \"absolute_error\", \"poisson\"], \n",
    "                   'max_depth': [0,1,2,3,4,5,None], \n",
    "                   'max_features': [\"auto\", \"sqrt\", \"log2\", None],\n",
    "                   'max_leaf_nodes': [0,1,2,3,4,5,None], \n",
    "                   'min_impurity_decrease': [0.0, 0.1, 0.2],\n",
    "                   'min_samples_leaf': [1,2,3,4,5], \n",
    "                   'min_samples_split': [1,2,3,4,5],\n",
    "                   'min_weight_fraction_leaf': [0.0, 0.1, 0.2],\n",
    "                   'splitter': ['best', 'random']\n",
    "                  }"
   ]
  },
  {
   "cell_type": "code",
   "execution_count": 48,
   "id": "12f73de4",
   "metadata": {},
   "outputs": [],
   "source": [
    " from sklearn.model_selection import GridSearchCV"
   ]
  },
  {
   "cell_type": "markdown",
   "id": "fce3d020",
   "metadata": {},
   "source": [
    "### Intento mejorar el modelo de \"tree\" con el método grid, que elige los valores de los mejores hiperparámetros"
   ]
  },
  {
   "cell_type": "code",
   "execution_count": 84,
   "id": "e2ad44af",
   "metadata": {},
   "outputs": [],
   "source": [
    "tree = models [\"tree\"]"
   ]
  },
  {
   "cell_type": "code",
   "execution_count": 85,
   "id": "63bd36b8",
   "metadata": {},
   "outputs": [],
   "source": [
    "grid_tree = GridSearchCV(tree, parameters_tree, verbose = 1)"
   ]
  },
  {
   "cell_type": "code",
   "execution_count": null,
   "id": "aa45aa19",
   "metadata": {},
   "outputs": [
    {
     "name": "stdout",
     "output_type": "stream",
     "text": [
      "Fitting 5 folds for each of 1058400 candidates, totalling 5292000 fits\n"
     ]
    }
   ],
   "source": [
    "grid_tree.fit(X_train, y_train)"
   ]
  },
  {
   "cell_type": "code",
   "execution_count": null,
   "id": "9993497d",
   "metadata": {},
   "outputs": [],
   "source": []
  },
  {
   "cell_type": "code",
   "execution_count": null,
   "id": "eab92c62",
   "metadata": {},
   "outputs": [],
   "source": [
    "svr = models [\"svr\"]"
   ]
  },
  {
   "cell_type": "code",
   "execution_count": null,
   "id": "9d98b782",
   "metadata": {},
   "outputs": [],
   "source": [
    "grid_svr = GridSearchCV(svr, parameters_svr, verbose = 1)"
   ]
  }
 ],
 "metadata": {
  "kernelspec": {
   "display_name": "ironhack",
   "language": "python",
   "name": "ironhack"
  },
  "language_info": {
   "codemirror_mode": {
    "name": "ipython",
    "version": 3
   },
   "file_extension": ".py",
   "mimetype": "text/x-python",
   "name": "python",
   "nbconvert_exporter": "python",
   "pygments_lexer": "ipython3",
   "version": "3.8.5"
  }
 },
 "nbformat": 4,
 "nbformat_minor": 5
}
